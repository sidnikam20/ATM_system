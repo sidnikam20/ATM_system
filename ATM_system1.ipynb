{
  "nbformat": 4,
  "nbformat_minor": 0,
  "metadata": {
    "colab": {
      "provenance": []
    },
    "kernelspec": {
      "name": "python3",
      "display_name": "Python 3"
    },
    "language_info": {
      "name": "python"
    }
  },
  "cells": [
    {
      "cell_type": "code",
      "source": [
        "import time\n",
        "\n",
        "def main():\n",
        "    user_atm = ATM(pin=\"1234\")\n",
        "    while True:\n",
        "        print(\"\\nATM Menu:\")\n",
        "        print(\"1. Check Balance\")\n",
        "        print(\"2. Deposit Cash\")\n",
        "        print(\"3. Withdraw Cash\")\n",
        "        print(\"4. Change PIN\")\n",
        "        print(\"5. Transaction History\")\n",
        "        print(\"6. Exit\")\n",
        "\n",
        "        choice = input(\"Enter your choice: \")\n",
        "\n",
        "        if choice == \"1\":\n",
        "            user_atm.check_balance()\n",
        "        elif choice == \"2\":\n",
        "            amount = float(input(\"Enter amount to deposit: \"))\n",
        "            user_atm.deposit(amount)\n",
        "        elif choice == \"3\":\n",
        "            amount = float(input(\"Enter amount to withdraw: \"))\n",
        "            user_atm.withdraw(amount)\n",
        "        elif choice == \"4\":\n",
        "            old_pin = input(\"Enter current PIN: \")\n",
        "            new_pin = input(\"Enter new PIN: \")\n",
        "            user_atm.change_pin(old_pin, new_pin)\n",
        "        elif choice == \"5\":\n",
        "            user_atm.show_history()\n",
        "        elif choice == \"6\":\n",
        "            print(\"Thank you for using the ATM. Goodbye!\")\n",
        "            break\n",
        "        else:\n",
        "            print(\"Invalid choice. Please try again.\")\n",
        "\n",
        "        input(\"\\nPress Enter to continue...\")  # This will wait for user input before showing the menu again\n",
        "\n",
        "if __name__ == \"__main__\":\n",
        "    main()\n"
      ],
      "metadata": {
        "colab": {
          "base_uri": "https://localhost:8080/"
        },
        "id": "Hw1hdhEBn6ih",
        "outputId": "bb5f479d-c7f5-4eb0-e583-bd59e6c96855"
      },
      "execution_count": null,
      "outputs": [
        {
          "output_type": "stream",
          "name": "stdout",
          "text": [
            "\n",
            "ATM Menu:\n",
            "1. Check Balance\n",
            "2. Deposit Cash\n",
            "3. Withdraw Cash\n",
            "4. Change PIN\n",
            "5. Transaction History\n",
            "6. Exit\n",
            "Enter your choice: 2\n",
            "Enter amount to deposit: 7000\n",
            "Successfully deposited $7000.0. New balance: $8000.0\n",
            "\n",
            "Press Enter to continue...no\n",
            "\n",
            "ATM Menu:\n",
            "1. Check Balance\n",
            "2. Deposit Cash\n",
            "3. Withdraw Cash\n",
            "4. Change PIN\n",
            "5. Transaction History\n",
            "6. Exit\n"
          ]
        }
      ]
    }
  ]
}